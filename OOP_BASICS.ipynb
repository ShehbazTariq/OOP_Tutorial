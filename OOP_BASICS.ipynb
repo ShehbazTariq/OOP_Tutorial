{
 "cells": [
  {
   "cell_type": "code",
   "execution_count": 1,
   "metadata": {},
   "outputs": [],
   "source": [
    "# This is the syntax for creating a class in Python\n",
    "# __init__ is a special method that is called when an object is created from this class\n",
    "# self is a reference to the current instance of the class, and is used to access variables that belong to the class\n",
    "# self.name is a variable that belongs to the class\n",
    "# self.name = name is an assignment statement that assigns the value of the name parameter to the self.name variable\n",
    "\n",
    "\n",
    "class Shirt:\n",
    "    def __init__(self, shirt_color, shirt_size, shirt_style, shirt_price):\n",
    "        self.color = shirt_color\n",
    "        self.size = shirt_size\n",
    "        self.style = shirt_style\n",
    "        self.price = shirt_price\n",
    "    \n",
    "    def change_price(self, new_price):\n",
    "        self.price = new_price\n",
    "        \n",
    "    def discount(self, discount):\n",
    "        return self.price * (1 - discount)"
   ]
  },
  {
   "cell_type": "code",
   "execution_count": 2,
   "metadata": {},
   "outputs": [
    {
     "data": {
      "text/plain": [
       "<__main__.Shirt at 0x24fa49451c0>"
      ]
     },
     "execution_count": 2,
     "metadata": {},
     "output_type": "execute_result"
    }
   ],
   "source": [
    "Shirt('red', 'S', 'long-sleeve', 15)  # Create an instance of the Shirt class"
   ]
  },
  {
   "cell_type": "code",
   "execution_count": 3,
   "metadata": {},
   "outputs": [],
   "source": [
    "new_shirt = Shirt('orange', 'L', 'short-sleeve', 10)  # Create another instance of the Shirt class"
   ]
  },
  {
   "cell_type": "code",
   "execution_count": 4,
   "metadata": {},
   "outputs": [
    {
     "name": "stdout",
     "output_type": "stream",
     "text": [
      "10\n"
     ]
    }
   ],
   "source": [
    "# Access the price attribute of the new_shirt object and assign it to the variable shirt_one_price\n",
    "shirt_one_price = new_shirt.price\n",
    "\n",
    "# Print the price of shirt_one_price\n",
    "print(shirt_one_price)"
   ]
  },
  {
   "cell_type": "code",
   "execution_count": 5,
   "metadata": {},
   "outputs": [
    {
     "name": "stdout",
     "output_type": "stream",
     "text": [
      "8.8\n"
     ]
    }
   ],
   "source": [
    "#discount the price of the shirt by 12%\n",
    "new_price = new_shirt.discount(0.12)\n",
    "\n",
    "# Print the price of the shirt with the discount\n",
    "print(new_price)"
   ]
  },
  {
   "cell_type": "code",
   "execution_count": null,
   "metadata": {},
   "outputs": [],
   "source": []
  }
 ],
 "metadata": {
  "kernelspec": {
   "display_name": "Python 3.9.13 ('base')",
   "language": "python",
   "name": "python3"
  },
  "language_info": {
   "codemirror_mode": {
    "name": "ipython",
    "version": 3
   },
   "file_extension": ".py",
   "mimetype": "text/x-python",
   "name": "python",
   "nbconvert_exporter": "python",
   "pygments_lexer": "ipython3",
   "version": "3.9.13"
  },
  "orig_nbformat": 4,
  "vscode": {
   "interpreter": {
    "hash": "e710dd7c3afba562123ceb36f2795537b54bbbf1bbbe154f647844357c7d270c"
   }
  }
 },
 "nbformat": 4,
 "nbformat_minor": 2
}
